{
 "cells": [
  {
   "cell_type": "code",
   "execution_count": 2,
   "id": "18e74f9e",
   "metadata": {},
   "outputs": [
    {
     "name": "stdout",
     "output_type": "stream",
     "text": [
      "une\n",
      "\n",
      "\\ Physccal 6 Dede layer\n",
      "\n",
      "Ir reP/tp mode{ does not defne ny profocols,\n",
      "they Supewt all the strandord profocols . They tag\n",
      "Combomied brow cas host~ be -netusorle laya.\n",
      "\n",
      "A actosorle 14 TCP/pp trkenehoork coun be LAN ovis\n",
      "\n",
      "2 Nebroork loya:\n",
      "\n",
      "The TcP/tp made [ Supports rinteunchs ov krng protse|\n",
      "TH shelt known a3 [p, The [Pusey four proteral\n",
      "a) Ad dress Resshbion Protece| (ARe)\n",
      "b) Reverse Address Resoleatron\n",
      "D Inkeunet cant |\n",
      "\n",
      "Inkanet Group\n",
      "\n",
      "Proto! (Rage)\n",
      "Message Protoco| (Ieme)\n",
      "\n",
      "Message Rote ro GANG)\n",
      "> Trans port loser;\n",
      "\n",
      "Dh can be represented by thy ce protocols,\n",
      "PA, Brarsincssten contro | Ss lage (70)\n",
      "\n",
      "b) Ose, Ookogran Protocg! (ver)\n",
      "©) Sheen Contea|\n",
      "\n",
      "Trainsmrssrony Protocal (sere)\n",
      "hye Ae plication layer\n",
      "\n",
      "HITP : Ho peterctbreursty Proloce |\n",
      "\n",
      "PrP > Erle Tenste, proleco |\n",
      "DNS Domine Neume System\n",
      "omee\n",
      "\n",
      "Srmele mel Hab, profoce /\n",
      "\n"
     ]
    }
   ],
   "source": [
    "# Import the necessary libraries\n",
    "#!pip install pytesseract pillow\n",
    "import pytesseract\n",
    "from PIL import Image\n",
    "\n",
    "# Open an image using PIL (Python Imaging Library)\n",
    "\n",
    "image = Image.open('D:/Nlp/ocr project/photo_2023-10-13_11-36-39.jpg')\n",
    "\n",
    "# Use Tesseract to extract text from the image\n",
    "text = pytesseract.image_to_string(image)\n",
    "\n",
    "# Print the extracted text\n",
    "print(text)\n"
   ]
  },
  {
   "cell_type": "code",
   "execution_count": null,
   "id": "9ceb9f0e",
   "metadata": {},
   "outputs": [],
   "source": []
  }
 ],
 "metadata": {
  "kernelspec": {
   "display_name": "Python 3 (ipykernel)",
   "language": "python",
   "name": "python3"
  },
  "language_info": {
   "codemirror_mode": {
    "name": "ipython",
    "version": 3
   },
   "file_extension": ".py",
   "mimetype": "text/x-python",
   "name": "python",
   "nbconvert_exporter": "python",
   "pygments_lexer": "ipython3",
   "version": "3.11.4"
  }
 },
 "nbformat": 4,
 "nbformat_minor": 5
}
